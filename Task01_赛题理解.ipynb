{
 "metadata": {
  "language_info": {
   "codemirror_mode": {
    "name": "ipython",
    "version": 3
   },
   "file_extension": ".py",
   "mimetype": "text/x-python",
   "name": "python",
   "nbconvert_exporter": "python",
   "pygments_lexer": "ipython3",
   "version": 3
  },
  "orig_nbformat": 2
 },
 "nbformat": 4,
 "nbformat_minor": 2,
 "cells": [
  {
   "source": [
    "train.csv\n",
    "\n",
    "- SaleID - 销售样本ID\n",
    "- name - 汽车编码\n",
    "- regDate - 汽车注册时间\n",
    "- model - 车型编码\n",
    "- brand - 品牌\n",
    "- bodyType - 车身类型\n",
    "- fuelType - 燃油类型\n",
    "- gearbox - 变速箱\n",
    "- power - 汽车功率\n",
    "- kilometer - 汽车行驶公里\n",
    "- notRepairedDamage - 汽车有尚未修复的损坏\n",
    "- regionCode - 看车地区编码\n",
    "- seller - 销售方\n",
    "- offerType - 报价类型\n",
    "- creatDate - 广告发布时间\n",
    "- price - 汽车价格\n",
    "- v_0', 'v_1', 'v_2', 'v_3', 'v_4', 'v_5', 'v_6', 'v_7', 'v_8', 'v_9', 'v_10', 'v_11', 'v_12', 'v_13','v_14' 【匿名特征，包含v0-14在内15个匿名特征】 　\n",
    "数字全都脱敏处理，都为label encoding形式，即数字形式"
   ],
   "cell_type": "markdown",
   "metadata": {}
  }
 ]
}