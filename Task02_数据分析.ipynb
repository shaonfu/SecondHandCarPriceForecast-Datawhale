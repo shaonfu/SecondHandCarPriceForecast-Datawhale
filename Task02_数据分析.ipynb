{
 "metadata": {
  "language_info": {
   "codemirror_mode": {
    "name": "ipython",
    "version": 3
   },
   "file_extension": ".py",
   "mimetype": "text/x-python",
   "name": "python",
   "nbconvert_exporter": "python",
   "pygments_lexer": "ipython3",
   "version": "3.7.4-final"
  },
  "orig_nbformat": 2,
  "kernelspec": {
   "name": "python374jvsc74a57bd04c189dea772f58598b57832d8b181ba33928e5f7f91aa28f29180a7d5b3bd8ad",
   "display_name": "Python 3.7.4 64-bit ('tf2.0': conda)"
  }
 },
 "nbformat": 4,
 "nbformat_minor": 2,
 "cells": [
  {
   "source": [
    "## 二丶 EDA-数据探索性分析\n",
    "\n",
    "## 2.1 EDA目标\n",
    "\n",
    "* EDA的价值主要在于熟悉数据集，了解数据集，对数据集进行验证来确定所获得数据集可以用于接下来的机器学习或者深度学习使用。\n",
    "\n",
    "* 当了解了数据集之后我们下一步就是要去了解变量间的相互关系以及变量与预测值之间的存在关系。\n",
    "\n",
    "* 引导数据科学从业者进行数据处理以及特征工程的步骤,使数据集的结构和特征集让接下来的预测问题更加可靠。\n",
    "\n",
    "* 完成对于数据的探索性分析，并对于数据进行一些图表或者文字总结并打卡。"
   ],
   "cell_type": "markdown",
   "metadata": {}
  },
  {
   "cell_type": "code",
   "execution_count": 1,
   "metadata": {},
   "outputs": [],
   "source": [
    "import pandas as pd\n",
    "import numpy as np\n",
    "\n",
    "path = '/Users/ousei/Documents/数据分析/study/data/'\n",
    "\n",
    "#载入数据集\n",
    "Train_data = pd.read_csv(path+'car_train_0110.csv',sep=' ')\n",
    "Test_data = pd.read_csv(path+'car_testA_0110.csv',sep=' ')"
   ]
  },
  {
   "cell_type": "code",
   "execution_count": 2,
   "metadata": {},
   "outputs": [
    {
     "output_type": "execute_result",
     "data": {
      "text/plain": [
       "   SaleID    name   regDate  model  brand  bodyType  fuelType  gearbox  power  \\\n",
       "0  134890     734  20160002   13.0      9       NaN       0.0      1.0      0   \n",
       "1  306648  196973  20080307   72.0      9       7.0       5.0      1.0    173   \n",
       "2  340675   25347  20020312   18.0     12       3.0       0.0      1.0     50   \n",
       "3   57332    5382  20000611   38.0      8       7.0       0.0      1.0     54   \n",
       "4  265235  173174  20030109   87.0      0       5.0       5.0      1.0    131   \n",
       "\n",
       "   kilometer  ...      v_14      v_15       v_16      v_17      v_18  \\\n",
       "0       15.0  ...  0.092139  0.000000  18.763832 -1.512063 -1.008718   \n",
       "1       15.0  ...  0.001070  0.122335  -5.685612 -0.489963 -2.223693   \n",
       "2       12.5  ...  0.064410  0.003345  -3.295700  1.816499  3.554439   \n",
       "3       15.0  ...  0.069231  0.000000  -3.405521  1.497826  4.782636   \n",
       "4        3.0  ...  0.000099  0.001655  -4.475429  0.124138  1.364567   \n",
       "\n",
       "        v_19      v_20      v_21      v_22      v_23  \n",
       "0 -12.100623 -0.947052  9.077297  0.581214  3.945923  \n",
       "1  -0.226865 -0.658246 -3.949621  4.593618 -1.145653  \n",
       "2  -0.683675  0.971495  2.625318 -0.851922 -1.246135  \n",
       "3   0.039101  1.227646  3.040629 -0.801854 -1.251894  \n",
       "4  -0.319848 -1.131568 -3.303424 -1.998466 -1.279368  \n",
       "\n",
       "[5 rows x 40 columns]"
      ],
      "text/html": "<div>\n<style scoped>\n    .dataframe tbody tr th:only-of-type {\n        vertical-align: middle;\n    }\n\n    .dataframe tbody tr th {\n        vertical-align: top;\n    }\n\n    .dataframe thead th {\n        text-align: right;\n    }\n</style>\n<table border=\"1\" class=\"dataframe\">\n  <thead>\n    <tr style=\"text-align: right;\">\n      <th></th>\n      <th>SaleID</th>\n      <th>name</th>\n      <th>regDate</th>\n      <th>model</th>\n      <th>brand</th>\n      <th>bodyType</th>\n      <th>fuelType</th>\n      <th>gearbox</th>\n      <th>power</th>\n      <th>kilometer</th>\n      <th>...</th>\n      <th>v_14</th>\n      <th>v_15</th>\n      <th>v_16</th>\n      <th>v_17</th>\n      <th>v_18</th>\n      <th>v_19</th>\n      <th>v_20</th>\n      <th>v_21</th>\n      <th>v_22</th>\n      <th>v_23</th>\n    </tr>\n  </thead>\n  <tbody>\n    <tr>\n      <th>0</th>\n      <td>134890</td>\n      <td>734</td>\n      <td>20160002</td>\n      <td>13.0</td>\n      <td>9</td>\n      <td>NaN</td>\n      <td>0.0</td>\n      <td>1.0</td>\n      <td>0</td>\n      <td>15.0</td>\n      <td>...</td>\n      <td>0.092139</td>\n      <td>0.000000</td>\n      <td>18.763832</td>\n      <td>-1.512063</td>\n      <td>-1.008718</td>\n      <td>-12.100623</td>\n      <td>-0.947052</td>\n      <td>9.077297</td>\n      <td>0.581214</td>\n      <td>3.945923</td>\n    </tr>\n    <tr>\n      <th>1</th>\n      <td>306648</td>\n      <td>196973</td>\n      <td>20080307</td>\n      <td>72.0</td>\n      <td>9</td>\n      <td>7.0</td>\n      <td>5.0</td>\n      <td>1.0</td>\n      <td>173</td>\n      <td>15.0</td>\n      <td>...</td>\n      <td>0.001070</td>\n      <td>0.122335</td>\n      <td>-5.685612</td>\n      <td>-0.489963</td>\n      <td>-2.223693</td>\n      <td>-0.226865</td>\n      <td>-0.658246</td>\n      <td>-3.949621</td>\n      <td>4.593618</td>\n      <td>-1.145653</td>\n    </tr>\n    <tr>\n      <th>2</th>\n      <td>340675</td>\n      <td>25347</td>\n      <td>20020312</td>\n      <td>18.0</td>\n      <td>12</td>\n      <td>3.0</td>\n      <td>0.0</td>\n      <td>1.0</td>\n      <td>50</td>\n      <td>12.5</td>\n      <td>...</td>\n      <td>0.064410</td>\n      <td>0.003345</td>\n      <td>-3.295700</td>\n      <td>1.816499</td>\n      <td>3.554439</td>\n      <td>-0.683675</td>\n      <td>0.971495</td>\n      <td>2.625318</td>\n      <td>-0.851922</td>\n      <td>-1.246135</td>\n    </tr>\n    <tr>\n      <th>3</th>\n      <td>57332</td>\n      <td>5382</td>\n      <td>20000611</td>\n      <td>38.0</td>\n      <td>8</td>\n      <td>7.0</td>\n      <td>0.0</td>\n      <td>1.0</td>\n      <td>54</td>\n      <td>15.0</td>\n      <td>...</td>\n      <td>0.069231</td>\n      <td>0.000000</td>\n      <td>-3.405521</td>\n      <td>1.497826</td>\n      <td>4.782636</td>\n      <td>0.039101</td>\n      <td>1.227646</td>\n      <td>3.040629</td>\n      <td>-0.801854</td>\n      <td>-1.251894</td>\n    </tr>\n    <tr>\n      <th>4</th>\n      <td>265235</td>\n      <td>173174</td>\n      <td>20030109</td>\n      <td>87.0</td>\n      <td>0</td>\n      <td>5.0</td>\n      <td>5.0</td>\n      <td>1.0</td>\n      <td>131</td>\n      <td>3.0</td>\n      <td>...</td>\n      <td>0.000099</td>\n      <td>0.001655</td>\n      <td>-4.475429</td>\n      <td>0.124138</td>\n      <td>1.364567</td>\n      <td>-0.319848</td>\n      <td>-1.131568</td>\n      <td>-3.303424</td>\n      <td>-1.998466</td>\n      <td>-1.279368</td>\n    </tr>\n  </tbody>\n</table>\n<p>5 rows × 40 columns</p>\n</div>"
     },
     "metadata": {},
     "execution_count": 2
    }
   ],
   "source": [
    "Train_data.head()"
   ]
  },
  {
   "cell_type": "code",
   "execution_count": 3,
   "metadata": {},
   "outputs": [
    {
     "output_type": "execute_result",
     "data": {
      "text/plain": [
       "        SaleID    name   regDate  model  brand  bodyType  fuelType  gearbox  \\\n",
       "249995   10556    9332  20170003   13.0      9       NaN       NaN      1.0   \n",
       "249996  146710  102110  20030511   29.0     17       3.0       0.0      0.0   \n",
       "249997  116066   82802  20130312  124.0     16       6.0       0.0      1.0   \n",
       "249998   90082   65971  20121212  111.0      4       7.0       5.0      0.0   \n",
       "249999   76453   56954  20051111   13.0      9       3.0       0.0      1.0   \n",
       "\n",
       "        power  kilometer  ...      v_14      v_15       v_16       v_17  \\\n",
       "249995     58       15.0  ...  0.079119  0.001447  11.782508  20.402576   \n",
       "249996     61       15.0  ...  0.000000  0.002342  -2.988272   1.500532   \n",
       "249997    122        3.0  ...  0.003358  0.100760  -6.939560  -1.144959   \n",
       "249998    184        9.0  ...  0.002974  0.008251  -7.222167  -1.383696   \n",
       "249999     58       12.5  ...  0.000000  0.009071  10.491312 -11.270043   \n",
       "\n",
       "            v_18      v_19      v_20      v_21      v_22      v_23  \n",
       "249995 -2.722772  0.462388 -4.429385  7.883413  0.698405 -1.082013  \n",
       "249996  3.502201 -0.761715 -2.484556 -2.532968 -0.940266 -1.106426  \n",
       "249997 -5.337949  0.896026 -0.592565 -3.872725  2.135984  3.807554  \n",
       "249998 -5.402794 -0.409451 -1.891556 -3.104789 -3.777374  3.186218  \n",
       "249999 -0.272595 -0.026478 -2.168249 -0.980042 -0.955164 -1.169593  \n",
       "\n",
       "[5 rows x 40 columns]"
      ],
      "text/html": "<div>\n<style scoped>\n    .dataframe tbody tr th:only-of-type {\n        vertical-align: middle;\n    }\n\n    .dataframe tbody tr th {\n        vertical-align: top;\n    }\n\n    .dataframe thead th {\n        text-align: right;\n    }\n</style>\n<table border=\"1\" class=\"dataframe\">\n  <thead>\n    <tr style=\"text-align: right;\">\n      <th></th>\n      <th>SaleID</th>\n      <th>name</th>\n      <th>regDate</th>\n      <th>model</th>\n      <th>brand</th>\n      <th>bodyType</th>\n      <th>fuelType</th>\n      <th>gearbox</th>\n      <th>power</th>\n      <th>kilometer</th>\n      <th>...</th>\n      <th>v_14</th>\n      <th>v_15</th>\n      <th>v_16</th>\n      <th>v_17</th>\n      <th>v_18</th>\n      <th>v_19</th>\n      <th>v_20</th>\n      <th>v_21</th>\n      <th>v_22</th>\n      <th>v_23</th>\n    </tr>\n  </thead>\n  <tbody>\n    <tr>\n      <th>249995</th>\n      <td>10556</td>\n      <td>9332</td>\n      <td>20170003</td>\n      <td>13.0</td>\n      <td>9</td>\n      <td>NaN</td>\n      <td>NaN</td>\n      <td>1.0</td>\n      <td>58</td>\n      <td>15.0</td>\n      <td>...</td>\n      <td>0.079119</td>\n      <td>0.001447</td>\n      <td>11.782508</td>\n      <td>20.402576</td>\n      <td>-2.722772</td>\n      <td>0.462388</td>\n      <td>-4.429385</td>\n      <td>7.883413</td>\n      <td>0.698405</td>\n      <td>-1.082013</td>\n    </tr>\n    <tr>\n      <th>249996</th>\n      <td>146710</td>\n      <td>102110</td>\n      <td>20030511</td>\n      <td>29.0</td>\n      <td>17</td>\n      <td>3.0</td>\n      <td>0.0</td>\n      <td>0.0</td>\n      <td>61</td>\n      <td>15.0</td>\n      <td>...</td>\n      <td>0.000000</td>\n      <td>0.002342</td>\n      <td>-2.988272</td>\n      <td>1.500532</td>\n      <td>3.502201</td>\n      <td>-0.761715</td>\n      <td>-2.484556</td>\n      <td>-2.532968</td>\n      <td>-0.940266</td>\n      <td>-1.106426</td>\n    </tr>\n    <tr>\n      <th>249997</th>\n      <td>116066</td>\n      <td>82802</td>\n      <td>20130312</td>\n      <td>124.0</td>\n      <td>16</td>\n      <td>6.0</td>\n      <td>0.0</td>\n      <td>1.0</td>\n      <td>122</td>\n      <td>3.0</td>\n      <td>...</td>\n      <td>0.003358</td>\n      <td>0.100760</td>\n      <td>-6.939560</td>\n      <td>-1.144959</td>\n      <td>-5.337949</td>\n      <td>0.896026</td>\n      <td>-0.592565</td>\n      <td>-3.872725</td>\n      <td>2.135984</td>\n      <td>3.807554</td>\n    </tr>\n    <tr>\n      <th>249998</th>\n      <td>90082</td>\n      <td>65971</td>\n      <td>20121212</td>\n      <td>111.0</td>\n      <td>4</td>\n      <td>7.0</td>\n      <td>5.0</td>\n      <td>0.0</td>\n      <td>184</td>\n      <td>9.0</td>\n      <td>...</td>\n      <td>0.002974</td>\n      <td>0.008251</td>\n      <td>-7.222167</td>\n      <td>-1.383696</td>\n      <td>-5.402794</td>\n      <td>-0.409451</td>\n      <td>-1.891556</td>\n      <td>-3.104789</td>\n      <td>-3.777374</td>\n      <td>3.186218</td>\n    </tr>\n    <tr>\n      <th>249999</th>\n      <td>76453</td>\n      <td>56954</td>\n      <td>20051111</td>\n      <td>13.0</td>\n      <td>9</td>\n      <td>3.0</td>\n      <td>0.0</td>\n      <td>1.0</td>\n      <td>58</td>\n      <td>12.5</td>\n      <td>...</td>\n      <td>0.000000</td>\n      <td>0.009071</td>\n      <td>10.491312</td>\n      <td>-11.270043</td>\n      <td>-0.272595</td>\n      <td>-0.026478</td>\n      <td>-2.168249</td>\n      <td>-0.980042</td>\n      <td>-0.955164</td>\n      <td>-1.169593</td>\n    </tr>\n  </tbody>\n</table>\n<p>5 rows × 40 columns</p>\n</div>"
     },
     "metadata": {},
     "execution_count": 3
    }
   ],
   "source": [
    "Train_data.tail()"
   ]
  },
  {
   "cell_type": "code",
   "execution_count": 4,
   "metadata": {},
   "outputs": [
    {
     "output_type": "execute_result",
     "data": {
      "text/plain": [
       "(250000, 40)"
      ]
     },
     "metadata": {},
     "execution_count": 4
    }
   ],
   "source": [
    "Train_data.shape"
   ]
  },
  {
   "cell_type": "code",
   "execution_count": 5,
   "metadata": {},
   "outputs": [
    {
     "output_type": "execute_result",
     "data": {
      "text/plain": [
       "   SaleID    name   regDate  model  brand  bodyType  fuelType  gearbox  power  \\\n",
       "0  720326     505  20060505   19.0     13       7.0       0.0      1.0     90   \n",
       "1  714316    1836  20010301    5.0      5       3.0       4.0      1.0     75   \n",
       "2  704693  212291  20170610    6.0     18       NaN       5.0      0.0    150   \n",
       "3  624972    1345  19820005  215.0     32       7.0       0.0      1.0      0   \n",
       "4  669753    1428  20060205   30.0      4       7.0       5.0      1.0    122   \n",
       "\n",
       "   kilometer  ...      v_14      v_15      v_16      v_17      v_18  \\\n",
       "0        8.0  ...  0.083340  0.105382 -5.998993  0.147048 -1.902847   \n",
       "1       15.0  ...  0.074478  0.000000 -3.287221  2.081317  2.937052   \n",
       "2       15.0  ...  0.002032  0.000000  4.368218  8.252188 -4.136109   \n",
       "3        6.0  ...  0.098806  0.100883 -2.537486  0.513955  4.414962   \n",
       "4       15.0  ...  0.088397  0.002509 -6.197633 -0.191814 -1.224360   \n",
       "\n",
       "        v_19      v_20      v_21      v_22      v_23  \n",
       "0   0.348990  2.324961  3.343910  4.048742 -1.431822  \n",
       "1  -0.123018  1.202395  3.570743 -1.180587 -1.348598  \n",
       "2 -13.334970 -4.444620 -0.706978 -1.720218  3.569112  \n",
       "3   0.357685  2.700732  5.323602  6.085956 -0.900585  \n",
       "4  -0.326985  2.254931  4.183037 -2.574004  0.014203  \n",
       "\n",
       "[5 rows x 39 columns]"
      ],
      "text/html": "<div>\n<style scoped>\n    .dataframe tbody tr th:only-of-type {\n        vertical-align: middle;\n    }\n\n    .dataframe tbody tr th {\n        vertical-align: top;\n    }\n\n    .dataframe thead th {\n        text-align: right;\n    }\n</style>\n<table border=\"1\" class=\"dataframe\">\n  <thead>\n    <tr style=\"text-align: right;\">\n      <th></th>\n      <th>SaleID</th>\n      <th>name</th>\n      <th>regDate</th>\n      <th>model</th>\n      <th>brand</th>\n      <th>bodyType</th>\n      <th>fuelType</th>\n      <th>gearbox</th>\n      <th>power</th>\n      <th>kilometer</th>\n      <th>...</th>\n      <th>v_14</th>\n      <th>v_15</th>\n      <th>v_16</th>\n      <th>v_17</th>\n      <th>v_18</th>\n      <th>v_19</th>\n      <th>v_20</th>\n      <th>v_21</th>\n      <th>v_22</th>\n      <th>v_23</th>\n    </tr>\n  </thead>\n  <tbody>\n    <tr>\n      <th>0</th>\n      <td>720326</td>\n      <td>505</td>\n      <td>20060505</td>\n      <td>19.0</td>\n      <td>13</td>\n      <td>7.0</td>\n      <td>0.0</td>\n      <td>1.0</td>\n      <td>90</td>\n      <td>8.0</td>\n      <td>...</td>\n      <td>0.083340</td>\n      <td>0.105382</td>\n      <td>-5.998993</td>\n      <td>0.147048</td>\n      <td>-1.902847</td>\n      <td>0.348990</td>\n      <td>2.324961</td>\n      <td>3.343910</td>\n      <td>4.048742</td>\n      <td>-1.431822</td>\n    </tr>\n    <tr>\n      <th>1</th>\n      <td>714316</td>\n      <td>1836</td>\n      <td>20010301</td>\n      <td>5.0</td>\n      <td>5</td>\n      <td>3.0</td>\n      <td>4.0</td>\n      <td>1.0</td>\n      <td>75</td>\n      <td>15.0</td>\n      <td>...</td>\n      <td>0.074478</td>\n      <td>0.000000</td>\n      <td>-3.287221</td>\n      <td>2.081317</td>\n      <td>2.937052</td>\n      <td>-0.123018</td>\n      <td>1.202395</td>\n      <td>3.570743</td>\n      <td>-1.180587</td>\n      <td>-1.348598</td>\n    </tr>\n    <tr>\n      <th>2</th>\n      <td>704693</td>\n      <td>212291</td>\n      <td>20170610</td>\n      <td>6.0</td>\n      <td>18</td>\n      <td>NaN</td>\n      <td>5.0</td>\n      <td>0.0</td>\n      <td>150</td>\n      <td>15.0</td>\n      <td>...</td>\n      <td>0.002032</td>\n      <td>0.000000</td>\n      <td>4.368218</td>\n      <td>8.252188</td>\n      <td>-4.136109</td>\n      <td>-13.334970</td>\n      <td>-4.444620</td>\n      <td>-0.706978</td>\n      <td>-1.720218</td>\n      <td>3.569112</td>\n    </tr>\n    <tr>\n      <th>3</th>\n      <td>624972</td>\n      <td>1345</td>\n      <td>19820005</td>\n      <td>215.0</td>\n      <td>32</td>\n      <td>7.0</td>\n      <td>0.0</td>\n      <td>1.0</td>\n      <td>0</td>\n      <td>6.0</td>\n      <td>...</td>\n      <td>0.098806</td>\n      <td>0.100883</td>\n      <td>-2.537486</td>\n      <td>0.513955</td>\n      <td>4.414962</td>\n      <td>0.357685</td>\n      <td>2.700732</td>\n      <td>5.323602</td>\n      <td>6.085956</td>\n      <td>-0.900585</td>\n    </tr>\n    <tr>\n      <th>4</th>\n      <td>669753</td>\n      <td>1428</td>\n      <td>20060205</td>\n      <td>30.0</td>\n      <td>4</td>\n      <td>7.0</td>\n      <td>5.0</td>\n      <td>1.0</td>\n      <td>122</td>\n      <td>15.0</td>\n      <td>...</td>\n      <td>0.088397</td>\n      <td>0.002509</td>\n      <td>-6.197633</td>\n      <td>-0.191814</td>\n      <td>-1.224360</td>\n      <td>-0.326985</td>\n      <td>2.254931</td>\n      <td>4.183037</td>\n      <td>-2.574004</td>\n      <td>0.014203</td>\n    </tr>\n  </tbody>\n</table>\n<p>5 rows × 39 columns</p>\n</div>"
     },
     "metadata": {},
     "execution_count": 5
    }
   ],
   "source": [
    "Test_data.head()"
   ]
  },
  {
   "cell_type": "code",
   "execution_count": 6,
   "metadata": {},
   "outputs": [
    {
     "output_type": "execute_result",
     "data": {
      "text/plain": [
       "(50000, 39)"
      ]
     },
     "metadata": {},
     "execution_count": 6
    }
   ],
   "source": [
    "Test_data.shape"
   ]
  },
  {
   "source": [
    "要养成看数据集head()以及shape的习惯"
   ],
   "cell_type": "markdown",
   "metadata": {}
  },
  {
   "source": [
    "## 总览数据概况\n",
    "\n",
    "使用describe和info方法\n",
    "\n",
    "1. describe 每列的统计量，个数count、平均值mean、方差std、最小值min、中位数25% 50% 75% 、以及最大值 看这个信息主要是瞬间掌握数据的大概的范围以及每个值的异常值的判断，比如有的时候会发现9999999 -1 等值这些其实都是nan的另外一种表达方式，有的时候需要注意\n",
    "2. info 通过info来了解数据每列的type，有助于了解是否存在除了nan以外的特殊符号异常"
   ],
   "cell_type": "markdown",
   "metadata": {}
  },
  {
   "cell_type": "code",
   "execution_count": 7,
   "metadata": {},
   "outputs": [
    {
     "output_type": "execute_result",
     "data": {
      "text/plain": [
       "              SaleID           name       regDate          model  \\\n",
       "count  250000.000000  250000.000000  2.500000e+05  250000.000000   \n",
       "mean   185351.790768   83153.362172  2.003401e+07      44.911480   \n",
       "std    107121.188763   72540.799964  7.770250e+04      50.640081   \n",
       "min         1.000000       0.000000  1.910000e+07       0.000000   \n",
       "25%     92501.750000   14500.000000  1.999061e+07       6.000000   \n",
       "50%    185264.500000   65314.500000  2.003111e+07      27.000000   \n",
       "75%    278128.500000  143761.250000  2.008081e+07      70.000000   \n",
       "max    370946.000000  233044.000000  2.019121e+07     250.000000   \n",
       "\n",
       "               brand       bodyType       fuelType        gearbox  \\\n",
       "count  250000.000000  224620.000000  227510.000000  236487.000000   \n",
       "mean        7.785236       4.563271       1.665008       0.780783   \n",
       "std         7.694010       1.912515       2.339646       0.413717   \n",
       "min         0.000000       0.000000       0.000000       0.000000   \n",
       "25%         1.000000       3.000000       0.000000       1.000000   \n",
       "50%         6.000000       4.000000       0.000000       1.000000   \n",
       "75%        11.000000       7.000000       5.000000       1.000000   \n",
       "max        39.000000       7.000000       6.000000       1.000000   \n",
       "\n",
       "               power      kilometer  ...           v_14           v_15  \\\n",
       "count  250000.000000  250000.000000  ...  250000.000000  250000.000000   \n",
       "mean      115.528412      12.577418  ...       0.032489       0.030408   \n",
       "std       196.141828       3.990632  ...       0.038792       0.049333   \n",
       "min         0.000000       0.500000  ...       0.000000       0.000000   \n",
       "25%        70.000000      12.500000  ...       0.000129       0.000000   \n",
       "50%       105.000000      15.000000  ...       0.001961       0.002567   \n",
       "75%       150.000000      15.000000  ...       0.075672       0.056568   \n",
       "max     20000.000000      15.000000  ...       0.130785       0.184340   \n",
       "\n",
       "                v_16           v_17           v_18           v_19  \\\n",
       "count  250000.000000  250000.000000  250000.000000  250000.000000   \n",
       "mean        0.014725       0.000915       0.006273       0.006604   \n",
       "std         8.779163       5.771081       4.880981       4.124722   \n",
       "min       -10.412444     -15.538236     -21.009214     -13.989955   \n",
       "25%        -5.552269      -0.901181      -3.150385      -0.478173   \n",
       "50%        -3.821770       0.223181      -0.058502       0.038427   \n",
       "75%         3.599747       1.263737       2.800475       0.569198   \n",
       "max        36.756878      26.134561      23.055660      16.576027   \n",
       "\n",
       "                v_20           v_21           v_22           v_23  \n",
       "count  250000.000000  250000.000000  250000.000000  250000.000000  \n",
       "mean       -0.001374       0.000609      -0.004025       0.001834  \n",
       "std         3.803626       3.555353       2.864713       2.323680  \n",
       "min        -9.599285     -11.181255      -7.671327      -2.350888  \n",
       "25%        -1.727237      -3.067073      -2.092178      -1.402804  \n",
       "50%        -0.995044      -0.880587      -1.199807      -1.145588  \n",
       "75%         1.563382       3.269987       2.737614       0.044865  \n",
       "max        20.324572      14.039422       8.764597       8.574730  \n",
       "\n",
       "[8 rows x 40 columns]"
      ],
      "text/html": "<div>\n<style scoped>\n    .dataframe tbody tr th:only-of-type {\n        vertical-align: middle;\n    }\n\n    .dataframe tbody tr th {\n        vertical-align: top;\n    }\n\n    .dataframe thead th {\n        text-align: right;\n    }\n</style>\n<table border=\"1\" class=\"dataframe\">\n  <thead>\n    <tr style=\"text-align: right;\">\n      <th></th>\n      <th>SaleID</th>\n      <th>name</th>\n      <th>regDate</th>\n      <th>model</th>\n      <th>brand</th>\n      <th>bodyType</th>\n      <th>fuelType</th>\n      <th>gearbox</th>\n      <th>power</th>\n      <th>kilometer</th>\n      <th>...</th>\n      <th>v_14</th>\n      <th>v_15</th>\n      <th>v_16</th>\n      <th>v_17</th>\n      <th>v_18</th>\n      <th>v_19</th>\n      <th>v_20</th>\n      <th>v_21</th>\n      <th>v_22</th>\n      <th>v_23</th>\n    </tr>\n  </thead>\n  <tbody>\n    <tr>\n      <th>count</th>\n      <td>250000.000000</td>\n      <td>250000.000000</td>\n      <td>2.500000e+05</td>\n      <td>250000.000000</td>\n      <td>250000.000000</td>\n      <td>224620.000000</td>\n      <td>227510.000000</td>\n      <td>236487.000000</td>\n      <td>250000.000000</td>\n      <td>250000.000000</td>\n      <td>...</td>\n      <td>250000.000000</td>\n      <td>250000.000000</td>\n      <td>250000.000000</td>\n      <td>250000.000000</td>\n      <td>250000.000000</td>\n      <td>250000.000000</td>\n      <td>250000.000000</td>\n      <td>250000.000000</td>\n      <td>250000.000000</td>\n      <td>250000.000000</td>\n    </tr>\n    <tr>\n      <th>mean</th>\n      <td>185351.790768</td>\n      <td>83153.362172</td>\n      <td>2.003401e+07</td>\n      <td>44.911480</td>\n      <td>7.785236</td>\n      <td>4.563271</td>\n      <td>1.665008</td>\n      <td>0.780783</td>\n      <td>115.528412</td>\n      <td>12.577418</td>\n      <td>...</td>\n      <td>0.032489</td>\n      <td>0.030408</td>\n      <td>0.014725</td>\n      <td>0.000915</td>\n      <td>0.006273</td>\n      <td>0.006604</td>\n      <td>-0.001374</td>\n      <td>0.000609</td>\n      <td>-0.004025</td>\n      <td>0.001834</td>\n    </tr>\n    <tr>\n      <th>std</th>\n      <td>107121.188763</td>\n      <td>72540.799964</td>\n      <td>7.770250e+04</td>\n      <td>50.640081</td>\n      <td>7.694010</td>\n      <td>1.912515</td>\n      <td>2.339646</td>\n      <td>0.413717</td>\n      <td>196.141828</td>\n      <td>3.990632</td>\n      <td>...</td>\n      <td>0.038792</td>\n      <td>0.049333</td>\n      <td>8.779163</td>\n      <td>5.771081</td>\n      <td>4.880981</td>\n      <td>4.124722</td>\n      <td>3.803626</td>\n      <td>3.555353</td>\n      <td>2.864713</td>\n      <td>2.323680</td>\n    </tr>\n    <tr>\n      <th>min</th>\n      <td>1.000000</td>\n      <td>0.000000</td>\n      <td>1.910000e+07</td>\n      <td>0.000000</td>\n      <td>0.000000</td>\n      <td>0.000000</td>\n      <td>0.000000</td>\n      <td>0.000000</td>\n      <td>0.000000</td>\n      <td>0.500000</td>\n      <td>...</td>\n      <td>0.000000</td>\n      <td>0.000000</td>\n      <td>-10.412444</td>\n      <td>-15.538236</td>\n      <td>-21.009214</td>\n      <td>-13.989955</td>\n      <td>-9.599285</td>\n      <td>-11.181255</td>\n      <td>-7.671327</td>\n      <td>-2.350888</td>\n    </tr>\n    <tr>\n      <th>25%</th>\n      <td>92501.750000</td>\n      <td>14500.000000</td>\n      <td>1.999061e+07</td>\n      <td>6.000000</td>\n      <td>1.000000</td>\n      <td>3.000000</td>\n      <td>0.000000</td>\n      <td>1.000000</td>\n      <td>70.000000</td>\n      <td>12.500000</td>\n      <td>...</td>\n      <td>0.000129</td>\n      <td>0.000000</td>\n      <td>-5.552269</td>\n      <td>-0.901181</td>\n      <td>-3.150385</td>\n      <td>-0.478173</td>\n      <td>-1.727237</td>\n      <td>-3.067073</td>\n      <td>-2.092178</td>\n      <td>-1.402804</td>\n    </tr>\n    <tr>\n      <th>50%</th>\n      <td>185264.500000</td>\n      <td>65314.500000</td>\n      <td>2.003111e+07</td>\n      <td>27.000000</td>\n      <td>6.000000</td>\n      <td>4.000000</td>\n      <td>0.000000</td>\n      <td>1.000000</td>\n      <td>105.000000</td>\n      <td>15.000000</td>\n      <td>...</td>\n      <td>0.001961</td>\n      <td>0.002567</td>\n      <td>-3.821770</td>\n      <td>0.223181</td>\n      <td>-0.058502</td>\n      <td>0.038427</td>\n      <td>-0.995044</td>\n      <td>-0.880587</td>\n      <td>-1.199807</td>\n      <td>-1.145588</td>\n    </tr>\n    <tr>\n      <th>75%</th>\n      <td>278128.500000</td>\n      <td>143761.250000</td>\n      <td>2.008081e+07</td>\n      <td>70.000000</td>\n      <td>11.000000</td>\n      <td>7.000000</td>\n      <td>5.000000</td>\n      <td>1.000000</td>\n      <td>150.000000</td>\n      <td>15.000000</td>\n      <td>...</td>\n      <td>0.075672</td>\n      <td>0.056568</td>\n      <td>3.599747</td>\n      <td>1.263737</td>\n      <td>2.800475</td>\n      <td>0.569198</td>\n      <td>1.563382</td>\n      <td>3.269987</td>\n      <td>2.737614</td>\n      <td>0.044865</td>\n    </tr>\n    <tr>\n      <th>max</th>\n      <td>370946.000000</td>\n      <td>233044.000000</td>\n      <td>2.019121e+07</td>\n      <td>250.000000</td>\n      <td>39.000000</td>\n      <td>7.000000</td>\n      <td>6.000000</td>\n      <td>1.000000</td>\n      <td>20000.000000</td>\n      <td>15.000000</td>\n      <td>...</td>\n      <td>0.130785</td>\n      <td>0.184340</td>\n      <td>36.756878</td>\n      <td>26.134561</td>\n      <td>23.055660</td>\n      <td>16.576027</td>\n      <td>20.324572</td>\n      <td>14.039422</td>\n      <td>8.764597</td>\n      <td>8.574730</td>\n    </tr>\n  </tbody>\n</table>\n<p>8 rows × 40 columns</p>\n</div>"
     },
     "metadata": {},
     "execution_count": 7
    }
   ],
   "source": [
    "#通过describe()来熟悉数据的相关统计量\n",
    "Train_data.describe()"
   ]
  },
  {
   "cell_type": "code",
   "execution_count": 8,
   "metadata": {},
   "outputs": [
    {
     "output_type": "stream",
     "name": "stdout",
     "text": [
      "<class 'pandas.core.frame.DataFrame'>\nRangeIndex: 250000 entries, 0 to 249999\nData columns (total 40 columns):\n #   Column             Non-Null Count   Dtype  \n---  ------             --------------   -----  \n 0   SaleID             250000 non-null  int64  \n 1   name               250000 non-null  int64  \n 2   regDate            250000 non-null  int64  \n 3   model              250000 non-null  float64\n 4   brand              250000 non-null  int64  \n 5   bodyType           224620 non-null  float64\n 6   fuelType           227510 non-null  float64\n 7   gearbox            236487 non-null  float64\n 8   power              250000 non-null  int64  \n 9   kilometer          250000 non-null  float64\n 10  notRepairedDamage  201464 non-null  float64\n 11  regionCode         250000 non-null  int64  \n 12  seller             250000 non-null  int64  \n 13  offerType          250000 non-null  int64  \n 14  creatDate          250000 non-null  int64  \n 15  price              250000 non-null  int64  \n 16  v_0                250000 non-null  float64\n 17  v_1                250000 non-null  float64\n 18  v_2                250000 non-null  float64\n 19  v_3                250000 non-null  float64\n 20  v_4                250000 non-null  float64\n 21  v_5                250000 non-null  float64\n 22  v_6                250000 non-null  float64\n 23  v_7                250000 non-null  float64\n 24  v_8                250000 non-null  float64\n 25  v_9                250000 non-null  float64\n 26  v_10               250000 non-null  float64\n 27  v_11               250000 non-null  float64\n 28  v_12               250000 non-null  float64\n 29  v_13               250000 non-null  float64\n 30  v_14               250000 non-null  float64\n 31  v_15               250000 non-null  float64\n 32  v_16               250000 non-null  float64\n 33  v_17               250000 non-null  float64\n 34  v_18               250000 non-null  float64\n 35  v_19               250000 non-null  float64\n 36  v_20               250000 non-null  float64\n 37  v_21               250000 non-null  float64\n 38  v_22               250000 non-null  float64\n 39  v_23               250000 non-null  float64\ndtypes: float64(30), int64(10)\nmemory usage: 76.3 MB\n"
     ]
    }
   ],
   "source": [
    "#通过info()来熟悉数据类型\n",
    "Train_data.info()"
   ]
  },
  {
   "source": [
    "## 判断数据缺失和异常\n"
   ],
   "cell_type": "markdown",
   "metadata": {}
  }
 ]
}